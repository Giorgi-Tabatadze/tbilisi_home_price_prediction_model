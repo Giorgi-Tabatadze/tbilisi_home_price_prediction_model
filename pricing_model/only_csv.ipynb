{
 "cells": [
  {
   "cell_type": "code",
   "execution_count": 1,
   "metadata": {},
   "outputs": [
    {
     "name": "stderr",
     "output_type": "stream",
     "text": [
      "/Users/user/repos/tbilisi_home_price_prediction_model/pricing_model/env/lib/python3.9/site-packages/urllib3/__init__.py:34: NotOpenSSLWarning: urllib3 v2.0 only supports OpenSSL 1.1.1+, currently the 'ssl' module is compiled with 'LibreSSL 2.8.3'. See: https://github.com/urllib3/urllib3/issues/3020\n",
      "  warnings.warn(\n"
     ]
    }
   ],
   "source": [
    "import os\n",
    "import numpy as np # linear algebra\n",
    "import pandas as pd # data processing, CSV file I/O (e.g. pd.read_csv)\n",
    "from sklearn.preprocessing import MinMaxScaler, OneHotEncoder\n",
    "from sklearn.model_selection import train_test_split\n",
    "from keras.models import Sequential\n",
    "from keras.layers import Dense\n"
   ]
  },
  {
   "cell_type": "code",
   "execution_count": 2,
   "metadata": {},
   "outputs": [],
   "source": [
    "path_to_csv = \"../data/housing_data.csv\"\n",
    "image_dir = \"../data/images\" \n",
    "column_names = [\"id\", \"url\", \"imageurl\", \"header\", \"price\", \"sqmprice\", \"sqm\", \"floor\", \"rooms\", \"bedrooms\", \"address\"]\n"
   ]
  },
  {
   "cell_type": "code",
   "execution_count": 3,
   "metadata": {},
   "outputs": [],
   "source": [
    "df = pd.read_csv(path_to_csv, names=column_names, header=None)\n",
    "image_files = set(os.listdir(image_dir))\n",
    "valid_ids = {int(filename.split('.')[0]) for filename in image_files if filename.split('.')[0].isdigit()}\n",
    "df = df[df.iloc[:, 0].isin(valid_ids)]\n",
    "df = df.dropna() # We lost 5% of the data, problem seems to be with the method of scraping or the website error itself\n",
    "df.drop(['url', 'imageurl'], axis=1, inplace=True)"
   ]
  },
  {
   "cell_type": "code",
   "execution_count": 4,
   "metadata": {},
   "outputs": [
    {
     "name": "stdout",
     "output_type": "stream",
     "text": [
      "location_name\n",
      "საბურთალოზე        850\n",
      "დიდ დიღომში        354\n",
      "ვაკეში             299\n",
      "გლდანის მასივში    235\n",
      "დიდუბეში           172\n",
      "                  ... \n",
      "კუკიაზე              1\n",
      "ზემო ფონიჭალაში      1\n",
      "ბეთანიაში            1\n",
      "კიკეთში              1\n",
      "ძველ ვეძისში         1\n",
      "Name: count, Length: 112, dtype: int64\n"
     ]
    }
   ],
   "source": [
    "df['location_name'] = df['header'].str.replace(\"იყიდება ახალი აშენებული ბინა \", \"\", regex=False).str.strip()\n",
    "df['location_name'] = df['location_name'].str.replace(\"იყიდება ძველი აშენებული ბინა \", \"\", regex=False).str.strip()\n",
    "df['location_name'] = df['location_name'].str.replace(\"იყიდება მშენებარე ბინა \", \"\", regex=False).str.strip()\n",
    "\n",
    "value_counts = df['location_name'].value_counts()\n",
    "print(value_counts)\n",
    "# Keep only rows where the 'location_name' value count is >= 30\n",
    "df = df[df['location_name'].isin(value_counts[value_counts >= 20].index)]\n",
    "df.drop(['header', 'address'], axis=1, inplace=True)\n"
   ]
  },
  {
   "cell_type": "code",
   "execution_count": 5,
   "metadata": {},
   "outputs": [],
   "source": [
    "df[\"price\"] = df[\"price\"].str.replace(\",\", \"\").astype(float)\n",
    "df[\"sqm\"] = df[\"sqm\"].str.replace(\" მ²\", \"\").astype(float)\n",
    "df[\"floor\"] = df[\"floor\"].str.replace(\"სარ.\", \"\").astype(float)\n",
    "df[\"rooms\"] = df[\"rooms\"].str.replace(\"ოთ.\", \"\").astype(float)\n",
    "df[\"bedrooms\"] = df[\"bedrooms\"].str.replace(\"საძ.\", \"\").astype(float)\n",
    "df.drop(\"sqmprice\", axis=1, inplace=True)"
   ]
  },
  {
   "cell_type": "code",
   "execution_count": 6,
   "metadata": {},
   "outputs": [],
   "source": [
    "scaler = MinMaxScaler()\n",
    "price_scaler = MinMaxScaler()\n",
    "df[['sqm', 'floor', 'rooms', 'bedrooms']] = scaler.fit_transform(df[['sqm', 'floor', 'rooms', 'bedrooms']])\n",
    "df[['price']] = price_scaler.fit_transform(df[['price']])\n",
    "\n",
    "# One-hot encode categorical columns\n",
    "df = pd.get_dummies(df, columns=['location_name'])\n",
    "bool_cols = [col for col in df.columns if df[col].dtype == 'bool']\n",
    "df[bool_cols] = df[bool_cols].astype(int)\n",
    "# Split the data into training and test sets\n",
    "y = df['price']\n",
    "X = df.drop('price', axis=1)\n",
    "X_train, X_test, y_train, y_test = train_test_split(X, y, test_size=0.2, random_state=42)"
   ]
  },
  {
   "cell_type": "code",
   "execution_count": 7,
   "metadata": {},
   "outputs": [],
   "source": [
    "model = Sequential()\n",
    "model.add(Dense(32, activation='relu', input_shape=(X_train.shape[1],)))\n",
    "model.add(Dense(1))"
   ]
  },
  {
   "cell_type": "code",
   "execution_count": 8,
   "metadata": {},
   "outputs": [],
   "source": [
    "model.compile(optimizer='adam', loss='mean_squared_error')"
   ]
  },
  {
   "cell_type": "code",
   "execution_count": 9,
   "metadata": {},
   "outputs": [
    {
     "name": "stdout",
     "output_type": "stream",
     "text": [
      "Epoch 1/20\n",
      "82/82 [==============================] - 0s 1ms/step - loss: 1552.2239 - val_loss: 2.6462\n",
      "Epoch 2/20\n",
      "82/82 [==============================] - 0s 660us/step - loss: 0.1843 - val_loss: 0.0104\n",
      "Epoch 3/20\n",
      "82/82 [==============================] - 0s 635us/step - loss: 0.0106 - val_loss: 0.0101\n",
      "Epoch 4/20\n",
      "82/82 [==============================] - 0s 628us/step - loss: 0.0103 - val_loss: 0.0098\n",
      "Epoch 5/20\n",
      "82/82 [==============================] - 0s 639us/step - loss: 0.0101 - val_loss: 0.0096\n",
      "Epoch 6/20\n",
      "82/82 [==============================] - 0s 627us/step - loss: 0.0099 - val_loss: 0.0098\n",
      "Epoch 7/20\n",
      "82/82 [==============================] - 0s 622us/step - loss: 0.0098 - val_loss: 0.0092\n",
      "Epoch 8/20\n",
      "82/82 [==============================] - 0s 615us/step - loss: 0.0096 - val_loss: 0.0089\n",
      "Epoch 9/20\n",
      "82/82 [==============================] - 0s 632us/step - loss: 0.0092 - val_loss: 0.0087\n",
      "Epoch 10/20\n",
      "82/82 [==============================] - 0s 1ms/step - loss: 0.0090 - val_loss: 0.0083\n",
      "Epoch 11/20\n",
      "82/82 [==============================] - 0s 688us/step - loss: 0.0092 - val_loss: 0.0083\n",
      "Epoch 12/20\n",
      "82/82 [==============================] - 0s 870us/step - loss: 0.0086 - val_loss: 0.0078\n",
      "Epoch 13/20\n",
      "82/82 [==============================] - 0s 661us/step - loss: 0.0081 - val_loss: 0.0074\n",
      "Epoch 14/20\n",
      "82/82 [==============================] - 0s 635us/step - loss: 0.0078 - val_loss: 0.0071\n",
      "Epoch 15/20\n",
      "82/82 [==============================] - 0s 647us/step - loss: 0.0075 - val_loss: 0.0070\n",
      "Epoch 16/20\n",
      "82/82 [==============================] - 0s 625us/step - loss: 0.0074 - val_loss: 0.0065\n",
      "Epoch 17/20\n",
      "82/82 [==============================] - 0s 619us/step - loss: 0.0068 - val_loss: 0.0062\n",
      "Epoch 18/20\n",
      "82/82 [==============================] - 0s 603us/step - loss: 0.0065 - val_loss: 0.0063\n",
      "Epoch 19/20\n",
      "82/82 [==============================] - 0s 620us/step - loss: 0.0061 - val_loss: 0.0056\n",
      "Epoch 20/20\n",
      "82/82 [==============================] - 0s 610us/step - loss: 0.0058 - val_loss: 0.0052\n"
     ]
    },
    {
     "data": {
      "text/plain": [
       "<keras.src.callbacks.History at 0x28e5aac40>"
      ]
     },
     "execution_count": 9,
     "metadata": {},
     "output_type": "execute_result"
    }
   ],
   "source": [
    "model.fit(X_train, y_train, epochs=20, batch_size=32, validation_split=0.2)"
   ]
  },
  {
   "cell_type": "code",
   "execution_count": 10,
   "metadata": {},
   "outputs": [
    {
     "name": "stdout",
     "output_type": "stream",
     "text": [
      "26/26 [==============================] - 0s 1ms/step - loss: 0.0049\n",
      "Test Loss: 0.004945153370499611\n"
     ]
    }
   ],
   "source": [
    "loss = model.evaluate(X_test, y_test)\n",
    "print(f\"Test Loss: {loss}\")"
   ]
  },
  {
   "cell_type": "code",
   "execution_count": 13,
   "metadata": {},
   "outputs": [
    {
     "name": "stdout",
     "output_type": "stream",
     "text": [
      "103/103 [==============================] - 0s 657us/step\n",
      "(3272, 1)\n",
      "(3272, 1)\n",
      "      Actual Values  Predicted Values\n",
      "0          105300.0      3.606088e+05\n",
      "1          115000.0      4.831747e+05\n",
      "2          105600.0     -7.492138e+05\n",
      "3          140000.0      9.273315e+06\n",
      "4           83000.0      8.619274e+05\n",
      "...             ...               ...\n",
      "3267       115000.0      8.580822e+05\n",
      "3268        54000.0     -1.512006e+06\n",
      "3269       217600.0      6.513178e+06\n",
      "3270       210000.0      2.995056e+06\n",
      "3271        37100.0      8.494305e+05\n",
      "\n",
      "[3272 rows x 2 columns]\n"
     ]
    }
   ],
   "source": [
    "# 1. Predict on test data\n",
    "y_pred = model.predict(X_train)\n",
    "\n",
    "# Inverse transform the scaled target variable (y_test)\n",
    "y_test_actual = price_scaler.inverse_transform(y_train.values.reshape(-1, 1))\n",
    "\n",
    "# Inverse transform the scaled predictions (y_pred)\n",
    "y_pred_actual = price_scaler.inverse_transform(y_pred.reshape(-1, 1))\n",
    "\n",
    "print(y_test_actual.shape)\n",
    "print(y_pred_actual.shape)\n",
    "\n",
    "# 2. Create a DataFrame with actual and predicted values\n",
    "comparison_df = pd.DataFrame({\n",
    "    'Actual Values': y_test_actual.flatten(),\n",
    "    'Predicted Values': y_pred_actual.flatten() # flatten is used to convert the 2D array to 1D\n",
    "})\n",
    "\n",
    "print(comparison_df)\n"
   ]
  },
  {
   "cell_type": "code",
   "execution_count": null,
   "metadata": {},
   "outputs": [],
   "source": []
  }
 ],
 "metadata": {
  "kernelspec": {
   "display_name": "Python 3 (ipykernel)",
   "language": "python",
   "name": "python3"
  },
  "language_info": {
   "codemirror_mode": {
    "name": "ipython",
    "version": 3
   },
   "file_extension": ".py",
   "mimetype": "text/x-python",
   "name": "python",
   "nbconvert_exporter": "python",
   "pygments_lexer": "ipython3",
   "version": "3.9.6"
  },
  "orig_nbformat": 4
 },
 "nbformat": 4,
 "nbformat_minor": 2
}
